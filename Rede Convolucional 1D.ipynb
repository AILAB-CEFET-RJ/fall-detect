{
 "cells": [
  {
   "cell_type": "code",
   "execution_count": 1,
   "id": "2e9009a3",
   "metadata": {},
   "outputs": [],
   "source": [
    "dados ='/home/dev/PycharmProjects/FallDetection/dados.npy'\n",
    "rotulos ='/home/dev/PycharmProjects/FallDetection/rotulos.npy'"
   ]
  },
  {
   "cell_type": "code",
   "execution_count": 2,
   "id": "ea0dbf3f",
   "metadata": {},
   "outputs": [],
   "source": [
    "import numpy as np\n",
    "X = np.load(dados)\n",
    "y = np.load(rotulos)"
   ]
  },
  {
   "cell_type": "code",
   "execution_count": 3,
   "id": "7da1e85f",
   "metadata": {},
   "outputs": [],
   "source": [
    "from sklearn.model_selection import train_test_split\n",
    "\n",
    "# Dividindo os dados em conjunto de treinamento e teste\n",
    "X_train, X_test, y_train, y_test = train_test_split(X, y, test_size=0.2, random_state=42)\n",
    "\n",
    "# Dividindo o conjunto de treinamento em conjunto de treinamento e validação\n",
    "X_train, X_val, y_train, y_val = train_test_split(X_train, y_train, test_size=0.2, random_state=42)\n",
    "\n"
   ]
  },
  {
   "cell_type": "code",
   "execution_count": 4,
   "id": "39853257",
   "metadata": {},
   "outputs": [
    {
     "data": {
      "text/plain": [
       "(988, 400, 1)"
      ]
     },
     "execution_count": 4,
     "metadata": {},
     "output_type": "execute_result"
    }
   ],
   "source": [
    "X_train.shape"
   ]
  },
  {
   "cell_type": "code",
   "execution_count": 5,
   "id": "ea1a8599",
   "metadata": {},
   "outputs": [
    {
     "data": {
      "text/plain": [
       "(309, 400, 1)"
      ]
     },
     "execution_count": 5,
     "metadata": {},
     "output_type": "execute_result"
    }
   ],
   "source": [
    "X_test.shape"
   ]
  },
  {
   "cell_type": "code",
   "execution_count": 6,
   "id": "a8c89a35",
   "metadata": {},
   "outputs": [
    {
     "data": {
      "text/plain": [
       "(247, 400, 1)"
      ]
     },
     "execution_count": 6,
     "metadata": {},
     "output_type": "execute_result"
    }
   ],
   "source": [
    "X_val.shape"
   ]
  },
  {
   "cell_type": "code",
   "execution_count": 7,
   "id": "0afdd438",
   "metadata": {},
   "outputs": [
    {
     "name": "stderr",
     "output_type": "stream",
     "text": [
      "2023-05-23 15:32:29.209411: I tensorflow/tsl/cuda/cudart_stub.cc:28] Could not find cuda drivers on your machine, GPU will not be used.\n",
      "2023-05-23 15:32:29.247884: I tensorflow/tsl/cuda/cudart_stub.cc:28] Could not find cuda drivers on your machine, GPU will not be used.\n",
      "2023-05-23 15:32:29.248457: I tensorflow/core/platform/cpu_feature_guard.cc:182] This TensorFlow binary is optimized to use available CPU instructions in performance-critical operations.\n",
      "To enable the following instructions: AVX2 FMA, in other operations, rebuild TensorFlow with the appropriate compiler flags.\n",
      "2023-05-23 15:32:29.936367: W tensorflow/compiler/tf2tensorrt/utils/py_utils.cc:38] TF-TRT Warning: Could not find TensorRT\n"
     ]
    }
   ],
   "source": [
    "from keras.utils import to_categorical\n",
    "y_train = to_categorical(y_train)\n",
    "y_test = to_categorical(y_test)\n",
    "y_val = to_categorical(y_val)"
   ]
  },
  {
   "cell_type": "code",
   "execution_count": 8,
   "id": "96e4b2b7",
   "metadata": {},
   "outputs": [
    {
     "name": "stderr",
     "output_type": "stream",
     "text": [
      "2023-05-23 15:32:30.678808: I tensorflow/compiler/xla/stream_executor/cuda/cuda_gpu_executor.cc:996] successful NUMA node read from SysFS had negative value (-1), but there must be at least one NUMA node, so returning NUMA node zero. See more at https://github.com/torvalds/linux/blob/v6.0/Documentation/ABI/testing/sysfs-bus-pci#L344-L355\n",
      "2023-05-23 15:32:30.679686: W tensorflow/core/common_runtime/gpu/gpu_device.cc:1956] Cannot dlopen some GPU libraries. Please make sure the missing libraries mentioned above are installed properly if you would like to use GPU. Follow the guide at https://www.tensorflow.org/install/gpu for how to download and setup the required libraries for your platform.\n",
      "Skipping registering GPU devices...\n"
     ]
    }
   ],
   "source": [
    "from tensorflow import keras\n",
    "from keras.models import Sequential\n",
    "from keras.layers import Dense, Dropout,Conv1D,Flatten,MaxPooling1D\n",
    "\n",
    "kernel_size = 8\n",
    "\n",
    "model = keras.Sequential()\n",
    "\n",
    "\n",
    "model.add(Conv1D(filters=32, kernel_size=kernel_size, activation='relu', input_shape=(400,1)))\n",
    "model.add(MaxPooling1D(pool_size=2))\n",
    "model.add(Dropout(0.2))\n",
    "\n",
    "model.add(Conv1D(filters=64, kernel_size=kernel_size, activation='relu'))\n",
    "model.add(MaxPooling1D(pool_size=2))\n",
    "model.add(Dropout(0.2))\n",
    "\n",
    "model.add(Conv1D(filters=128, kernel_size=kernel_size, activation='relu'))\n",
    "model.add(MaxPooling1D(pool_size=2))\n",
    "model.add(Dropout(0.2))\n",
    "\n",
    "model.add(Conv1D(filters=256, kernel_size=kernel_size, activation='relu'))\n",
    "model.add(MaxPooling1D(pool_size=2))\n",
    "model.add(Dropout(0.2))\n",
    "\n",
    "#model.add(Conv1D(filters=512, kernel_size=3, activation='relu'))\n",
    "#model.add(MaxPooling1D(pool_size=2))\n",
    "#model.add(Dropout(0.2))\n",
    "\n",
    "#model.add(Conv1D(filters=1024, kernel_size=3, activation='relu'))\n",
    "#model.add(MaxPooling1D(pool_size=2))\n",
    "#model.add(Dropout(0.2))\n",
    "\n",
    "model.add(Flatten())\n",
    "model.add(Dense(256, activation='relu'))\n",
    "#model.add(Dense(256, activation='relu'))\n",
    "model.add(Dense(8, activation='softmax'))\n",
    "\n",
    "model.compile(optimizer='adam', loss='categorical_crossentropy', metrics=['accuracy'])\n",
    "\n",
    "\n"
   ]
  },
  {
   "cell_type": "code",
   "execution_count": 9,
   "id": "f66ba12c",
   "metadata": {},
   "outputs": [
    {
     "name": "stdout",
     "output_type": "stream",
     "text": [
      "Epoch 1/45\n",
      "31/31 [==============================] - 2s 44ms/step - loss: 1.7146 - accuracy: 0.3937 - val_loss: 1.2717 - val_accuracy: 0.4575\n",
      "Epoch 2/45\n",
      "31/31 [==============================] - 1s 45ms/step - loss: 0.8677 - accuracy: 0.7227 - val_loss: 0.6946 - val_accuracy: 0.7368\n",
      "Epoch 3/45\n",
      "31/31 [==============================] - 1s 42ms/step - loss: 0.5732 - accuracy: 0.8219 - val_loss: 1.0278 - val_accuracy: 0.7449\n",
      "Epoch 4/45\n",
      "31/31 [==============================] - 1s 41ms/step - loss: 0.5884 - accuracy: 0.8158 - val_loss: 0.6506 - val_accuracy: 0.7895\n",
      "Epoch 5/45\n",
      "31/31 [==============================] - 1s 41ms/step - loss: 0.4023 - accuracy: 0.8755 - val_loss: 0.4388 - val_accuracy: 0.8421\n",
      "Epoch 6/45\n",
      "31/31 [==============================] - 1s 40ms/step - loss: 0.2959 - accuracy: 0.9028 - val_loss: 0.4220 - val_accuracy: 0.8785\n",
      "Epoch 7/45\n",
      "31/31 [==============================] - 1s 39ms/step - loss: 0.2509 - accuracy: 0.9038 - val_loss: 0.3207 - val_accuracy: 0.8866\n",
      "Epoch 8/45\n",
      "31/31 [==============================] - 1s 39ms/step - loss: 0.1892 - accuracy: 0.9372 - val_loss: 0.2002 - val_accuracy: 0.9271\n",
      "Epoch 9/45\n",
      "31/31 [==============================] - 1s 44ms/step - loss: 0.1819 - accuracy: 0.9433 - val_loss: 0.4604 - val_accuracy: 0.8745\n",
      "Epoch 10/45\n",
      "31/31 [==============================] - 1s 42ms/step - loss: 0.2304 - accuracy: 0.9312 - val_loss: 0.2257 - val_accuracy: 0.9271\n",
      "Epoch 11/45\n",
      "31/31 [==============================] - 1s 39ms/step - loss: 0.1240 - accuracy: 0.9555 - val_loss: 0.2357 - val_accuracy: 0.9069\n",
      "Epoch 12/45\n",
      "31/31 [==============================] - 1s 41ms/step - loss: 0.0953 - accuracy: 0.9706 - val_loss: 0.1980 - val_accuracy: 0.9312\n",
      "Epoch 13/45\n",
      "31/31 [==============================] - 1s 39ms/step - loss: 0.1218 - accuracy: 0.9646 - val_loss: 0.2919 - val_accuracy: 0.9190\n",
      "Epoch 14/45\n",
      "31/31 [==============================] - 1s 40ms/step - loss: 0.1922 - accuracy: 0.9423 - val_loss: 0.2691 - val_accuracy: 0.9109\n",
      "Epoch 15/45\n",
      "31/31 [==============================] - 1s 39ms/step - loss: 0.1368 - accuracy: 0.9575 - val_loss: 0.1773 - val_accuracy: 0.9352\n",
      "Epoch 16/45\n",
      "31/31 [==============================] - 1s 38ms/step - loss: 0.0645 - accuracy: 0.9767 - val_loss: 0.2005 - val_accuracy: 0.9474\n",
      "Epoch 17/45\n",
      "31/31 [==============================] - 1s 38ms/step - loss: 0.0687 - accuracy: 0.9787 - val_loss: 0.2622 - val_accuracy: 0.9312\n",
      "Epoch 18/45\n",
      "31/31 [==============================] - 1s 38ms/step - loss: 0.1685 - accuracy: 0.9534 - val_loss: 0.1981 - val_accuracy: 0.9433\n",
      "Epoch 19/45\n",
      "31/31 [==============================] - 1s 38ms/step - loss: 0.0889 - accuracy: 0.9717 - val_loss: 0.2490 - val_accuracy: 0.9109\n",
      "Epoch 20/45\n",
      "31/31 [==============================] - 1s 39ms/step - loss: 0.0601 - accuracy: 0.9808 - val_loss: 0.1822 - val_accuracy: 0.9514\n",
      "Epoch 21/45\n",
      "31/31 [==============================] - 1s 38ms/step - loss: 0.0461 - accuracy: 0.9879 - val_loss: 0.1562 - val_accuracy: 0.9514\n",
      "Epoch 22/45\n",
      "31/31 [==============================] - 1s 38ms/step - loss: 0.0509 - accuracy: 0.9868 - val_loss: 0.1827 - val_accuracy: 0.9514\n",
      "Epoch 23/45\n",
      "31/31 [==============================] - 1s 38ms/step - loss: 0.0348 - accuracy: 0.9919 - val_loss: 0.2177 - val_accuracy: 0.9474\n",
      "Epoch 24/45\n",
      "31/31 [==============================] - 1s 39ms/step - loss: 0.0269 - accuracy: 0.9949 - val_loss: 0.2136 - val_accuracy: 0.9514\n",
      "Epoch 25/45\n",
      "31/31 [==============================] - 1s 41ms/step - loss: 0.0191 - accuracy: 0.9949 - val_loss: 0.2083 - val_accuracy: 0.9514\n",
      "Epoch 26/45\n",
      "31/31 [==============================] - 1s 40ms/step - loss: 0.0266 - accuracy: 0.9909 - val_loss: 0.2046 - val_accuracy: 0.9433\n",
      "Epoch 27/45\n",
      "31/31 [==============================] - 1s 41ms/step - loss: 0.0234 - accuracy: 0.9949 - val_loss: 0.1478 - val_accuracy: 0.9555\n",
      "Epoch 28/45\n",
      "31/31 [==============================] - 1s 42ms/step - loss: 0.0455 - accuracy: 0.9889 - val_loss: 0.2147 - val_accuracy: 0.9474\n",
      "Epoch 29/45\n",
      "31/31 [==============================] - 1s 41ms/step - loss: 0.0182 - accuracy: 0.9970 - val_loss: 0.3280 - val_accuracy: 0.9271\n",
      "Epoch 30/45\n",
      "31/31 [==============================] - 1s 45ms/step - loss: 0.1572 - accuracy: 0.9757 - val_loss: 0.3506 - val_accuracy: 0.9312\n",
      "Epoch 31/45\n",
      "31/31 [==============================] - 1s 42ms/step - loss: 0.1052 - accuracy: 0.9676 - val_loss: 0.2317 - val_accuracy: 0.9393\n",
      "Epoch 32/45\n",
      "31/31 [==============================] - 1s 44ms/step - loss: 0.0244 - accuracy: 0.9949 - val_loss: 0.1879 - val_accuracy: 0.9393\n",
      "Epoch 33/45\n",
      "31/31 [==============================] - 2s 49ms/step - loss: 0.0150 - accuracy: 0.9970 - val_loss: 0.2236 - val_accuracy: 0.9433\n",
      "Epoch 34/45\n",
      "31/31 [==============================] - 1s 48ms/step - loss: 0.0159 - accuracy: 0.9939 - val_loss: 0.2028 - val_accuracy: 0.9555\n",
      "Epoch 35/45\n",
      "31/31 [==============================] - 1s 44ms/step - loss: 0.0149 - accuracy: 0.9960 - val_loss: 0.1821 - val_accuracy: 0.9555\n",
      "Epoch 36/45\n",
      "31/31 [==============================] - 1s 43ms/step - loss: 0.0084 - accuracy: 0.9980 - val_loss: 0.2357 - val_accuracy: 0.9514\n",
      "Epoch 37/45\n",
      "31/31 [==============================] - 2s 56ms/step - loss: 0.0054 - accuracy: 1.0000 - val_loss: 0.2263 - val_accuracy: 0.9514\n",
      "Epoch 38/45\n",
      "31/31 [==============================] - 1s 46ms/step - loss: 0.0054 - accuracy: 0.9990 - val_loss: 0.2227 - val_accuracy: 0.9514\n",
      "Epoch 39/45\n",
      "31/31 [==============================] - 1s 40ms/step - loss: 0.0025 - accuracy: 1.0000 - val_loss: 0.2368 - val_accuracy: 0.9555\n",
      "Epoch 40/45\n",
      "31/31 [==============================] - 1s 40ms/step - loss: 0.0040 - accuracy: 0.9990 - val_loss: 0.2263 - val_accuracy: 0.9555\n",
      "Epoch 41/45\n",
      "31/31 [==============================] - 1s 40ms/step - loss: 0.0066 - accuracy: 0.9980 - val_loss: 0.2252 - val_accuracy: 0.9393\n",
      "Epoch 42/45\n",
      "31/31 [==============================] - 1s 40ms/step - loss: 0.0051 - accuracy: 0.9990 - val_loss: 0.2396 - val_accuracy: 0.9595\n",
      "Epoch 43/45\n",
      "31/31 [==============================] - 1s 40ms/step - loss: 0.0061 - accuracy: 0.9970 - val_loss: 0.2581 - val_accuracy: 0.9514\n",
      "Epoch 44/45\n",
      "31/31 [==============================] - 1s 41ms/step - loss: 0.0144 - accuracy: 0.9949 - val_loss: 0.3261 - val_accuracy: 0.9312\n",
      "Epoch 45/45\n",
      "31/31 [==============================] - 1s 39ms/step - loss: 0.0089 - accuracy: 0.9970 - val_loss: 0.2990 - val_accuracy: 0.9393\n"
     ]
    }
   ],
   "source": [
    "historico = model.fit(X_train,y_train,batch_size= 32,epochs = 45, validation_data = (X_val,y_val),verbose =1)"
   ]
  },
  {
   "cell_type": "code",
   "execution_count": 10,
   "id": "da1f6889",
   "metadata": {},
   "outputs": [
    {
     "name": "stdout",
     "output_type": "stream",
     "text": [
      "Model: \"sequential\"\n",
      "_________________________________________________________________\n",
      " Layer (type)                Output Shape              Param #   \n",
      "=================================================================\n",
      " conv1d (Conv1D)             (None, 393, 32)           288       \n",
      "                                                                 \n",
      " max_pooling1d (MaxPooling1D  (None, 196, 32)          0         \n",
      " )                                                               \n",
      "                                                                 \n",
      " dropout (Dropout)           (None, 196, 32)           0         \n",
      "                                                                 \n",
      " conv1d_1 (Conv1D)           (None, 189, 64)           16448     \n",
      "                                                                 \n",
      " max_pooling1d_1 (MaxPooling  (None, 94, 64)           0         \n",
      " 1D)                                                             \n",
      "                                                                 \n",
      " dropout_1 (Dropout)         (None, 94, 64)            0         \n",
      "                                                                 \n",
      " conv1d_2 (Conv1D)           (None, 87, 128)           65664     \n",
      "                                                                 \n",
      " max_pooling1d_2 (MaxPooling  (None, 43, 128)          0         \n",
      " 1D)                                                             \n",
      "                                                                 \n",
      " dropout_2 (Dropout)         (None, 43, 128)           0         \n",
      "                                                                 \n",
      " conv1d_3 (Conv1D)           (None, 36, 256)           262400    \n",
      "                                                                 \n",
      " max_pooling1d_3 (MaxPooling  (None, 18, 256)          0         \n",
      " 1D)                                                             \n",
      "                                                                 \n",
      " dropout_3 (Dropout)         (None, 18, 256)           0         \n",
      "                                                                 \n",
      " flatten (Flatten)           (None, 4608)              0         \n",
      "                                                                 \n",
      " dense (Dense)               (None, 256)               1179904   \n",
      "                                                                 \n",
      " dense_1 (Dense)             (None, 8)                 2056      \n",
      "                                                                 \n",
      "=================================================================\n",
      "Total params: 1,526,760\n",
      "Trainable params: 1,526,760\n",
      "Non-trainable params: 0\n",
      "_________________________________________________________________\n"
     ]
    }
   ],
   "source": [
    "model.summary()"
   ]
  },
  {
   "cell_type": "code",
   "execution_count": 11,
   "id": "bdf84f2d",
   "metadata": {},
   "outputs": [
    {
     "data": {
      "image/png": "[encoded data removed]",
      "text/plain": [
       "<Figure size 640x480 with 1 Axes>"
      ]
     },
     "metadata": {},
     "output_type": "display_data"
    }
   ],
   "source": [
    "import matplotlib.pyplot as plt\n",
    "\n",
    "\n",
    "acuracia_treino = historico.history['accuracy'] \n",
    "acuracia_val = historico.history['val_accuracy']\n",
    "\n",
    "epochs = range(1, len(acuracia_treino)+1) \n",
    "\n",
    "plt.plot(epochs,acuracia_treino, \"-g\", label=\"Acurácia Dados de Treino\") \n",
    "plt.plot(epochs,acuracia_val, \"-b\", label = \"Acurácia Dados de Validação\")\n",
    "plt.legend()\n",
    "plt.xlabel('Epochs')\n",
    "plt.ylabel('Acurácia')\n",
    "plt.show()"
   ]
  },
  {
   "cell_type": "code",
   "execution_count": 12,
   "id": "dcaba4e3",
   "metadata": {},
   "outputs": [
    {
     "name": "stdout",
     "output_type": "stream",
     "text": [
      "10/10 [==============================] - 0s 6ms/step\n"
     ]
    },
    {
     "data": {
      "image/png": "[encoded data removed]",
      "text/plain": [
       "<Figure size 640x480 with 2 Axes>"
      ]
     },
     "metadata": {},
     "output_type": "display_data"
    }
   ],
   "source": [
    "import numpy as np\n",
    "import matplotlib.pyplot as plt\n",
    "import itertools\n",
    "from sklearn.metrics import confusion_matrix\n",
    "\n",
    "# Obtendo as probabilidades das classes previstas\n",
    "y_pred_probs = model.predict(X_test)\n",
    "\n",
    "# Obtendo as classes previstas\n",
    "y_pred = np.argmax(y_pred_probs, axis=1)\n",
    "\n",
    "# Obtendo as classes reais\n",
    "y_true = np.argmax(y_test, axis=1)\n",
    "\n",
    "# Calculando a matriz de confusão\n",
    "cm = confusion_matrix(y_true, y_pred)\n",
    "\n",
    "# Plotando a matriz de confusão\n",
    "plt.imshow(cm, cmap=plt.cm.Blues)\n",
    "plt.title('Matriz de Confusão')\n",
    "plt.colorbar()\n",
    "tick_marks = np.arange(0, 8)\n",
    "plt.xticks(tick_marks, rotation=90)\n",
    "plt.yticks(tick_marks)\n",
    "\n",
    "# Adicionando os números nas células da matriz\n",
    "thresh = cm.max() / 2.\n",
    "for i, j in itertools.product(range(cm.shape[0]), range(cm.shape[1])):\n",
    "    plt.text(j, i, format(cm[i, j], 'd'),\n",
    "             horizontalalignment=\"center\",\n",
    "             color=\"white\" if cm[i, j] > thresh else \"black\")\n",
    "\n",
    "plt.tight_layout()\n",
    "plt.ylabel('Rótulo Real')\n",
    "plt.xlabel('Rótulo Previsto')\n",
    "plt.show()\n"
   ]
  },
  {
   "cell_type": "code",
   "execution_count": 13,
   "id": "b68747d9",
   "metadata": {},
   "outputs": [
    {
     "name": "stdout",
     "output_type": "stream",
     "text": [
      "              precision    recall  f1-score   support\n",
      "\n",
      "           0       0.94      0.96      0.95        48\n",
      "           1       1.00      1.00      1.00        33\n",
      "           2       0.96      0.91      0.93        54\n",
      "           3       1.00      0.44      0.62         9\n",
      "           4       1.00      1.00      1.00        60\n",
      "           5       1.00      1.00      1.00        39\n",
      "           6       0.93      1.00      0.96        54\n",
      "           7       0.80      1.00      0.89        12\n",
      "\n",
      "    accuracy                           0.96       309\n",
      "   macro avg       0.95      0.91      0.92       309\n",
      "weighted avg       0.96      0.96      0.96       309\n",
      "\n"
     ]
    }
   ],
   "source": [
    "from sklearn.metrics import classification_report\n",
    "\n",
    "\n",
    "target_names = np.arange(0, 8).astype(str)\n",
    "print(classification_report(y_true, y_pred, target_names=target_names))"
   ]
  },
  {
   "cell_type": "code",
   "execution_count": null,
   "id": "56ef9d34",
   "metadata": {},
   "outputs": [],
   "source": []
  }
 ],
 "metadata": {
  "kernelspec": {
   "display_name": "Python 3 (ipykernel)",
   "language": "python",
   "name": "python3"
  },
  "language_info": {
   "codemirror_mode": {
    "name": "ipython",
    "version": 3
   },
   "file_extension": ".py",
   "mimetype": "text/x-python",
   "name": "python",
   "nbconvert_exporter": "python",
   "pygments_lexer": "ipython3",
   "version": "3.10.9"
  }
 },
 "nbformat": 4,
 "nbformat_minor": 5
}
